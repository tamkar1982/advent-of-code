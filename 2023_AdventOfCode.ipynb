{
 "cells": [
  {
   "cell_type": "markdown",
   "id": "e26483db-3b7c-4b1e-a951-ce0c1d2da610",
   "metadata": {},
   "source": [
    "# AdventOfCode 2023"
   ]
  },
  {
   "cell_type": "markdown",
   "id": "89505a70-7113-45cb-b217-f6b7fea178be",
   "metadata": {},
   "source": [
    "## Day 1"
   ]
  },
  {
   "cell_type": "code",
   "execution_count": 1,
   "id": "40428a7f-3936-4065-8eeb-0d438ddbfbca",
   "metadata": {
    "jupyter": {
     "source_hidden": true
    },
    "tags": []
   },
   "outputs": [
    {
     "name": "stdout",
     "output_type": "stream",
     "text": [
      "First solution: 56108\n",
      "Second solution: 55652\n"
     ]
    }
   ],
   "source": [
    "import string\n",
    "import os\n",
    "\n",
    "day = 1\n",
    "file = fr\"C:\\Users\\tkarakay\\Desktop\\GitHub\\advent-of-code\\inputs\\day{day}_input.txt\"\n",
    "\n",
    "if not os.path.isfile(file):\n",
    "    try:\n",
    "        os.system(f\"python get_input.py --year 2023 --day {day}\")\n",
    "    except Exception as e:\n",
    "        print(e)\n",
    "\n",
    "with open(file, \"r\") as f:\n",
    "    text = f.read().strip().split(\"\\n\")\n",
    "    f.close()\n",
    "\n",
    "    \n",
    "# First Puzzle\n",
    "points = 0\n",
    "for line in text:\n",
    "    temp = [x for x in line if x in string.digits]\n",
    "    points += int(temp[0]+temp[-1])\n",
    "print(\"First solution:\", points)\n",
    "\n",
    "\n",
    "# Second Puzzle\n",
    "num_dict = {\"one\": \"o1e\",\n",
    "             \"two\": \"t2o\",\n",
    "             \"three\":\"t3e\",\n",
    "             \"four\": \"f4r\",\n",
    "             \"five\": \"f5e\",\n",
    "             \"six\": \"s6x\",\n",
    "             \"seven\": \"s7n\",\n",
    "             \"eight\": \"e8t\",\n",
    "             \"nine\": \"n9e\",\n",
    "            }\n",
    "\n",
    "def change(s):\n",
    "    temp = s\n",
    "    for k,v in num_dict.items():\n",
    "        if k in temp:\n",
    "            temp = temp.replace(k,v)\n",
    "    return temp\n",
    "\n",
    "points = 0\n",
    "for line in text:\n",
    "    line = change(line)\n",
    "    temp = [x for x in line if x in string.digits]\n",
    "    points += int(temp[0]+temp[-1])\n",
    "print(\"Second solution:\", points)"
   ]
  },
  {
   "cell_type": "markdown",
   "id": "29288583-7e83-444f-95af-dfba578ecdbb",
   "metadata": {},
   "source": [
    "## Day 2"
   ]
  },
  {
   "cell_type": "code",
   "execution_count": 2,
   "id": "cc801add-afa6-4ae1-bd10-9f89a383771f",
   "metadata": {
    "jupyter": {
     "source_hidden": true
    },
    "tags": []
   },
   "outputs": [
    {
     "name": "stdout",
     "output_type": "stream",
     "text": [
      "First solution: 2369\n",
      "Second solution: 66363\n"
     ]
    }
   ],
   "source": [
    "import string\n",
    "import os\n",
    "\n",
    "day = 2\n",
    "file = fr\"C:\\Users\\tkarakay\\Desktop\\GitHub\\advent-of-code\\inputs\\day{day}_input.txt\"\n",
    "\n",
    "if not os.path.isfile(file):\n",
    "    try:\n",
    "        os.system(f\"python get_input.py --year 2023 --day {day}\")\n",
    "    except Exception as e:\n",
    "        print(e)\n",
    "\n",
    "with open(file, \"r\", ) as f:\n",
    "    text = f.read().strip().split(\"\\n\")\n",
    "    f.close()\n",
    "\n",
    "from math import prod\n",
    "\n",
    "games = []\n",
    "# Each game is broken into a list of dictionaries with the amounts of each cube\n",
    "for line in text:\n",
    "    # Get each draw from the game\n",
    "    game = line.strip().split(\": \")[1].split(\"; \")\n",
    "    for i in range(len(game)):\n",
    "        game[i] = game[i].split(\", \")\n",
    "        draw = game[i]\n",
    "\n",
    "        # Get each cube from the draw\n",
    "        my_dict = {}\n",
    "        for cube in draw:\n",
    "            count, color = cube.split(\" \")\n",
    "            my_dict[color] = int(count)\n",
    "        game[i] = my_dict\n",
    "\n",
    "    games.append(game)\n",
    "\n",
    "# Maximum counts for Part 1\n",
    "max_cube = {\n",
    "    \"red\": 12,\n",
    "    \"green\": 13,\n",
    "    \"blue\": 14,\n",
    "}\n",
    "\n",
    "#---------- Part 1 ----------#\n",
    "\n",
    "solution_p1 = 0\n",
    "for n, game in enumerate(games, start=1):\n",
    "    valid = True\n",
    "    \n",
    "    for draw in game:\n",
    "        for color, count in draw.items():\n",
    "            if count > max_cube[color]:\n",
    "                # If a color count is greater than its maximum, then the game is invalid\n",
    "                valid = False\n",
    "                break\n",
    "        if not valid: break\n",
    "    \n",
    "    if valid:\n",
    "        solution_p1 += n\n",
    "\n",
    "print(\"First solution:\", solution_p1)\n",
    "\n",
    "#---------- Part 2 ----------#\n",
    "\n",
    "solution_p2 = 0\n",
    "for game in games:\n",
    "    min_cube = {\n",
    "    \"red\": 0,\n",
    "    \"green\": 0,\n",
    "    \"blue\": 0,\n",
    "    }\n",
    "\n",
    "    for draw in game:\n",
    "        for color, count in draw.items():\n",
    "            if (min_cube[color] < count):\n",
    "                # The minimum amount of a color should be the greatest amount of that color among all draws\n",
    "                min_cube[color] = count\n",
    "    \n",
    "    solution_p2 += prod(min_cube.values())\n",
    "\n",
    "print(\"Second solution:\", solution_p2)"
   ]
  },
  {
   "cell_type": "markdown",
   "id": "9eb6a638-5ec0-4b0d-9f32-170f2c89db24",
   "metadata": {},
   "source": [
    "## Day 3"
   ]
  },
  {
   "cell_type": "code",
   "execution_count": 3,
   "id": "cecf9383-3dbe-4918-9608-8fb0de1d0765",
   "metadata": {
    "jupyter": {
     "source_hidden": true
    },
    "tags": []
   },
   "outputs": [
    {
     "name": "stdout",
     "output_type": "stream",
     "text": [
      "First solution: 532428\n",
      "Second solution: 84051670\n"
     ]
    }
   ],
   "source": [
    "import string\n",
    "import os\n",
    "\n",
    "day = 3\n",
    "file = fr\"C:\\Users\\tkarakay\\Desktop\\GitHub\\advent-of-code\\inputs\\day{day}_input.txt\"\n",
    "\n",
    "if not os.path.isfile(file):\n",
    "    try:\n",
    "        os.system(f\"python get_input.py --year 2023 --day {day}\")\n",
    "    except Exception as e:\n",
    "        print(e)\n",
    "\n",
    "with open(file, \"r\", ) as f:\n",
    "    text = f.read().strip().split(\"\\n\")\n",
    "    f.close()\n",
    "\n",
    "import re\n",
    "\n",
    "g = text\n",
    "sol = 0\n",
    "for x in range(len(g)):\n",
    "    for match in re.finditer('\\d+', g[x]):\n",
    "        try:\n",
    "            for y in range(*match.span()):\n",
    "                for i in range(-1, 2):\n",
    "                    for j in range(-1, 2):\n",
    "                        assert not (0 <= x+i < len(g) and 0 <= y+j < len(g) and not g[x+i][y+j].isdigit() and g[x+i][y+j] != '.')\n",
    "        except: sol += int(match.group())\n",
    "print(\"First solution:\", sol)\n",
    "\n",
    "\n",
    "sol = 0\n",
    "adj = [[[] for x in range(len(g))] for x in range(len(g))]\n",
    "for x in range(len(g)):\n",
    "    for match in re.finditer('\\d+', g[x]):\n",
    "        for y in range(*match.span()):\n",
    "            for i in range(-1, 2):\n",
    "                for j in range(-1 if y == match.span()[0] else 0, 1 if y < match.span()[1]-1 else 2):\n",
    "                    if 0 <= x+i < len(g) and 0 <= y+j < len(g) and g[x+i][y+j] == '*':\n",
    "                        adj[x+i][y+j].append(int(match.group()))\n",
    "print(\"Second solution:\",sum(adj[x][y][0]*adj[x][y][1] for x in range(len(g)) for y in range(len(g)) if len(adj[x][y]) == 2))"
   ]
  },
  {
   "cell_type": "markdown",
   "id": "9720ed35-008f-4596-9a88-3b2000feae1e",
   "metadata": {},
   "source": [
    "## Day 4"
   ]
  },
  {
   "cell_type": "code",
   "execution_count": 4,
   "id": "075948a8-d149-4717-8b1d-02bb08a991bc",
   "metadata": {
    "jupyter": {
     "source_hidden": true
    },
    "tags": []
   },
   "outputs": [
    {
     "name": "stdout",
     "output_type": "stream",
     "text": [
      "First solution: 18619\n",
      "Second solution: 8063216\n"
     ]
    }
   ],
   "source": [
    "import string\n",
    "import os\n",
    "\n",
    "day = 4\n",
    "file = fr\"C:\\Users\\tkarakay\\Desktop\\GitHub\\advent-of-code\\inputs\\day{day}_input.txt\"\n",
    "\n",
    "if not os.path.isfile(file):\n",
    "    try:\n",
    "        os.system(f\"python get_input.py --year 2023 --day {day}\")\n",
    "    except Exception as e:\n",
    "        print(e)\n",
    "\n",
    "with open(file, \"r\", ) as f:\n",
    "    text = f.read().strip().split(\"\\n\")\n",
    "    f.close()\n",
    "\n",
    "lines = text\n",
    "\n",
    "def part1():\n",
    "    total = 0\n",
    "    for line in lines:\n",
    "        x, y = map(str.split, line.split('|'))\n",
    "        matches = set(x) & set(y)\n",
    "        total += 2 ** (len(matches) - 1) if matches else 0\n",
    "    return total\n",
    "\n",
    "def part2():\n",
    "    cards = [1] * len(lines)\n",
    "    for i, line in enumerate(lines):\n",
    "        x, y = map(str.split, line.split('|'))\n",
    "        n = len(set(x) & set(y))\n",
    "        for j in range(i + 1, min(i + 1 + n, len(lines))):\n",
    "            cards[j] += cards[i]\n",
    "    return sum(cards)\n",
    "\n",
    "print(\"First solution:\", part1())\n",
    "print(\"Second solution:\", part2())"
   ]
  },
  {
   "cell_type": "markdown",
   "id": "15ef7c63-a07c-4034-924f-e0a48cb01f33",
   "metadata": {},
   "source": [
    "## Day 5"
   ]
  },
  {
   "cell_type": "code",
   "execution_count": 5,
   "id": "11f91a85-a86b-4527-ad14-b60e5b50d91b",
   "metadata": {
    "jupyter": {
     "source_hidden": true
    },
    "tags": []
   },
   "outputs": [],
   "source": [
    "import string\n",
    "import os\n",
    "\n",
    "day = 5\n",
    "file = fr\"C:\\Users\\tkarakay\\Desktop\\GitHub\\advent-of-code\\inputs\\day{day}_input.txt\"\n",
    "\n",
    "if not os.path.isfile(file):\n",
    "    try:\n",
    "        os.system(f\"python get_input.py --year 2023 --day {day}\")\n",
    "    except Exception as e:\n",
    "        print(e)\n",
    "\n",
    "with open(file, \"r\", ) as f:\n",
    "    text = f.read().strip().split(\"\\n\")\n",
    "    f.close()\n"
   ]
  },
  {
   "cell_type": "code",
   "execution_count": 6,
   "id": "8f72638e-231d-4b5a-940a-e32cad3c22c1",
   "metadata": {
    "jupyter": {
     "source_hidden": true
    },
    "tags": []
   },
   "outputs": [
    {
     "name": "stdout",
     "output_type": "stream",
     "text": [
      "First solution: 551761867\n",
      "Second solution: 57451709\n"
     ]
    }
   ],
   "source": [
    "from math import log10, ceil\n",
    "\n",
    "# import ansi_term as ansi\n",
    "\n",
    "with open(file, encoding = 'utf-8') as f:\n",
    "    dat = [x.strip('\\n') for x in f.readlines()]\n",
    "\n",
    "def apply_maps(maps, seed):\n",
    "    pre_map = seed\n",
    "    for m in maps:\n",
    "        for ds, ss, rl in m:\n",
    "            if ss <= pre_map < ss + rl:\n",
    "                pre_map = ds + (pre_map - ss)\n",
    "                break\n",
    "    return pre_map\n",
    "\n",
    "def parse(seed_ranges = False):\n",
    "    seeds = [int(x) for x in dat[0].split(': ')[1].split(' ')]\n",
    "\n",
    "    if seed_ranges:\n",
    "        seeds = [(seeds[2 * i], seeds[2 * i + 1]) for i in range(len(seeds) // 2)]\n",
    "\n",
    "    maps = []\n",
    "    curr_map = []\n",
    "    for d in dat[3:]:\n",
    "        if d == '':\n",
    "            continue\n",
    "        if ':' in d:\n",
    "            maps += [curr_map]\n",
    "            curr_map = []\n",
    "        else:\n",
    "            curr_map += [tuple(int(x) for x in d.split(' '))]\n",
    "\n",
    "    maps += [curr_map]\n",
    "\n",
    "    return seeds, maps\n",
    "\n",
    "def part1(output = False):\n",
    "    seeds, maps = parse(seed_ranges = False)\n",
    "    locs = {apply_maps(maps, s): s for s in seeds}\n",
    "    min_loc = min(locs.keys())\n",
    "\n",
    "    if output:\n",
    "        for lk, lv in locs.items():\n",
    "            # if lk == min_loc:\n",
    "            #     print(ansi.COLOR_GREEN, end='')\n",
    "            print(f'Seed {lv:<10d} maps to location {lk}')\n",
    "            # if lk == min_loc:\n",
    "            #     print(ansi.TEXT_RESET, end='')\n",
    "\n",
    "    return min_loc\n",
    "\n",
    "def part2(output = False):\n",
    "    seeds, maps = parse(seed_ranges = True)\n",
    "\n",
    "    step_size = int(pow(10, ceil(log10(max(s[1] for s in seeds) / 100))))\n",
    "    search_vals = {(ss, ss + sl, s): apply_maps(maps, s) for ss, sl in seeds for s in range(ss, ss + sl, step_size)}\n",
    "    rough_est = min(search_vals.items(), key = lambda x: x[1])\n",
    "\n",
    "    seed_range_start, seed_range_end, best_est = rough_est[0]\n",
    "\n",
    "    if output:\n",
    "        print(f'Best estimate: {best_est} in seed range {seed_range_start} to {seed_range_end}')\n",
    "        print(f'Step size: {step_size:<8d}, best estimate: {best_est:<10d} near loc {rough_est[1]}')\n",
    "\n",
    "    while step_size > 1:\n",
    "        left_search  = max(best_est - step_size, seed_range_start)\n",
    "        right_search = min(best_est + step_size, seed_range_end)\n",
    "\n",
    "        step_size = step_size // 10\n",
    "        search_vals = {s: apply_maps(maps, s) for s in range(left_search, right_search, step_size)}\n",
    "        best_est, best_loc = min(search_vals.items(), key = lambda x: x[1])\n",
    "\n",
    "        # if output:\n",
    "        #     print(f'Step size: {step_size:<8d}, best estimate: {best_est:<10d} near loc {best_loc}')\n",
    "\n",
    "    return best_loc\n",
    "\n",
    "if __name__ == '__main__':\n",
    "    print('First solution:', part1(False))\n",
    "    print('Second solution:', part2(False))"
   ]
  },
  {
   "cell_type": "markdown",
   "id": "599b9883-7c02-49ad-bbc5-b467f02faa34",
   "metadata": {},
   "source": [
    "## Day 6"
   ]
  },
  {
   "cell_type": "code",
   "execution_count": 7,
   "id": "24716b9e-3f34-4b67-bc3c-02b82b1f72d1",
   "metadata": {
    "jupyter": {
     "source_hidden": true
    },
    "tags": []
   },
   "outputs": [
    {
     "name": "stdout",
     "output_type": "stream",
     "text": [
      "First solution: 1731600\n",
      "Second solution: 40087680\n"
     ]
    },
    {
     "data": {
      "text/plain": [
       "(None,)"
      ]
     },
     "execution_count": 7,
     "metadata": {},
     "output_type": "execute_result"
    }
   ],
   "source": [
    "import string\n",
    "import os\n",
    "\n",
    "day = 6\n",
    "file = fr\"C:\\Users\\tkarakay\\Desktop\\GitHub\\advent-of-code\\inputs\\day{day}_input.txt\"\n",
    "\n",
    "if not os.path.isfile(file):\n",
    "    try:\n",
    "        os.system(f\"python get_input.py --year 2023 --day {day}\")\n",
    "    except Exception as e:\n",
    "        print(e)\n",
    "\n",
    "with open(file, \"r\", ) as f:\n",
    "    text = f.read().strip().split(\"\\n\")\n",
    "    f.close()\n",
    "    \n",
    "lst = []\n",
    "[lst.append(\" \".join(x.split(\":\")[1].split()).split(\" \")) for x in text]\n",
    "\n",
    "dic = dict(zip(lst[0], lst[1]))\n",
    "\n",
    "def count(a, b):\n",
    "    return sum(1 for i in range(a) if i * (a - i) > b)\n",
    "\n",
    "m = 1\n",
    "for k,v in dic.items():\n",
    "    m *= count(int(k),int(v))\n",
    "print(\"First solution:\", m)\n",
    "\n",
    "\n",
    "lst2 = [int(\"\".join(x.split(\" \")).split(\":\")[-1]) for x in text]\n",
    "print(\"Second solution:\",count(lst2[0], lst2[1])),\n"
   ]
  },
  {
   "cell_type": "code",
   "execution_count": 8,
   "id": "e83d4560-74b1-4511-b997-4e524fd83684",
   "metadata": {
    "tags": []
   },
   "outputs": [
    {
     "name": "stdout",
     "output_type": "stream",
     "text": [
      "30.4 µs ± 1.54 µs per loop (mean ± std. dev. of 7 runs, 10,000 loops each)\n"
     ]
    }
   ],
   "source": [
    "%%timeit\n",
    "m = 1\n",
    "for k,v in dic.items():\n",
    "    m *= count(int(k),int(v))"
   ]
  },
  {
   "cell_type": "code",
   "execution_count": 9,
   "id": "deaa3d8b-50c9-437c-b04e-30d21f9638ad",
   "metadata": {
    "tags": []
   },
   "outputs": [
    {
     "name": "stdout",
     "output_type": "stream",
     "text": [
      "5.94 s ± 80.2 ms per loop (mean ± std. dev. of 7 runs, 1 loop each)\n"
     ]
    }
   ],
   "source": [
    "%%timeit\n",
    "#lst2 = [int(\"\".join(x.split(\" \")).split(\":\")[-1]) for x in text]\n",
    "count(lst2[0], lst2[1])\n"
   ]
  },
  {
   "cell_type": "code",
   "execution_count": 10,
   "id": "905a0116-921c-4486-813b-27cab3947654",
   "metadata": {
    "tags": []
   },
   "outputs": [
    {
     "name": "stdout",
     "output_type": "stream",
     "text": [
      "40087680\n"
     ]
    }
   ],
   "source": [
    "day = 6\n",
    "file = fr\"C:\\Users\\tkarakay\\Desktop\\GitHub\\advent-of-code\\inputs\\day{day}_input.txt\"\n",
    "\n",
    "time, dist = [int(''.join(l.split()[1:])) for l in open(file)]\n",
    "print(time - 2*int(time/2 - (time**2/4 - dist)**.5) - 1)"
   ]
  },
  {
   "cell_type": "code",
   "execution_count": 11,
   "id": "cf24f6e7-ae90-4ad9-a2a8-ce5761d3da43",
   "metadata": {
    "tags": []
   },
   "outputs": [
    {
     "name": "stdout",
     "output_type": "stream",
     "text": [
      "725 ns ± 22.4 ns per loop (mean ± std. dev. of 7 runs, 1,000,000 loops each)\n"
     ]
    }
   ],
   "source": [
    "%%timeit\n",
    "time - 2*int(time/2 - (time**2/4 - dist)**.5) - 1"
   ]
  },
  {
   "cell_type": "markdown",
   "id": "50aeb316-3f6d-4b13-9449-7fc7505be6b1",
   "metadata": {},
   "source": [
    "## Day 7"
   ]
  },
  {
   "cell_type": "code",
   "execution_count": 12,
   "id": "c26bb0c4-71e1-4bfe-b374-c0bb9f27bfb4",
   "metadata": {
    "jupyter": {
     "source_hidden": true
    },
    "tags": []
   },
   "outputs": [],
   "source": [
    "import string\n",
    "import os\n",
    "\n",
    "day = 7\n",
    "file = fr\"C:\\Users\\tkarakay\\Desktop\\GitHub\\advent-of-code\\inputs\\day{day}_input.txt\"\n",
    "\n",
    "if not os.path.isfile(file):\n",
    "    try:\n",
    "        os.system(f\"python get_input.py --year 2023 --day {day}\")\n",
    "    except Exception as e:\n",
    "        print(e)\n",
    "\n",
    "with open(file, \"r\", ) as f:\n",
    "    text = f.read().strip().split(\"\\n\")\n",
    "    f.close()\n",
    "    "
   ]
  },
  {
   "cell_type": "code",
   "execution_count": 13,
   "id": "054e6661-4238-4c42-9c1a-dd0cb22943b6",
   "metadata": {
    "jupyter": {
     "source_hidden": true
    },
    "tags": []
   },
   "outputs": [
    {
     "name": "stdout",
     "output_type": "stream",
     "text": [
      "First solution: 247823654\n",
      "Second solution: 245461700\n"
     ]
    }
   ],
   "source": [
    "from collections import Counter\n",
    "from itertools import chain\n",
    "\n",
    "data = text\n",
    "\n",
    "HANDS = [(a, int(b)) for x in data for a, b in [x.split(\" \")]]\n",
    "HAND_TYPES = [\n",
    "    lambda x, j: len(x) < 2,\n",
    "    lambda x, j: max(x.values()) + j == 4,\n",
    "    lambda x, j: (len(x) == 2 and 2 in x.values() and 3 in x.values())\n",
    "    or (Counter(x.values())[2] == 2 and j == 1),\n",
    "    lambda x, j: (3 - j) in x.values(),\n",
    "    lambda x, j: (2 in Counter(x.values()) and Counter(x.values())[2] == 2)\n",
    "    or (j > 0 and 2 in Counter(x.values())),\n",
    "    lambda x, j: (2 - j) in x.values(),\n",
    "]\n",
    "\n",
    "\n",
    "def solve(part_two=False):\n",
    "    sorted_hands = [[] for _ in range(7)]\n",
    "    order = {\n",
    "        v: i for i, v in enumerate(\"J23456789TQKA\" if part_two else \"23456789TJQKA\")\n",
    "    }\n",
    "\n",
    "    for hand, bid in HANDS:\n",
    "        cur = Counter(hand)\n",
    "        #print(cur)\n",
    "        if part_two:\n",
    "            jokers = cur[\"J\"]\n",
    "            del cur[\"J\"]\n",
    "        else:\n",
    "            jokers = 0\n",
    "        i = next(\n",
    "            (i for i, hand_type in enumerate(HAND_TYPES) if hand_type(cur, jokers)), 6\n",
    "        )\n",
    "        sorted_hands[i].append((hand, bid))\n",
    "\n",
    "    for i, v in enumerate(sorted_hands):\n",
    "        sorted_hands[i] = sorted(v, key=lambda x: [order[c] for c in x[0]])\n",
    "\n",
    "    return sum(\n",
    "        i * bid\n",
    "        for i, (hand, bid) in enumerate(\n",
    "            chain.from_iterable(sorted_hands[::-1]), start=1\n",
    "        )\n",
    "    )\n",
    "\n",
    "\n",
    "print(f\"First solution: {solve()}\")  # 253866470\n",
    "print(f\"Second solution: {solve(True)}\")  # 254494947"
   ]
  },
  {
   "cell_type": "code",
   "execution_count": 14,
   "id": "3f4da7fb-642d-4620-b114-683fa756acd2",
   "metadata": {
    "jupyter": {
     "source_hidden": true
    },
    "tags": []
   },
   "outputs": [
    {
     "name": "stdout",
     "output_type": "stream",
     "text": [
      "247823654\n",
      "245461700\n"
     ]
    }
   ],
   "source": [
    "import sys\n",
    "from collections import Counter\n",
    "from collections.abc import Iterator\n",
    "from typing import Iterable\n",
    "\n",
    "Hand = tuple[int, int, int, int, int]\n",
    "\n",
    "CARD_VALUES = {v: i for i, v in enumerate(\"23456789TJQKA\", start=2)}\n",
    "\n",
    "def parse_input(lines: Iterable[str]) -> Iterator[tuple[Hand, int]]:\n",
    "    for line in lines:\n",
    "        hand, bid = line.split()\n",
    "        yield tuple(CARD_VALUES.get(char) for char in hand), int(bid)\n",
    "\n",
    "\n",
    "def hand_strength(hand: Hand) -> tuple[list[int], Hand]:\n",
    "    counts = [count for card, count in Counter(hand).most_common()]\n",
    "    return counts, hand\n",
    "\n",
    "\n",
    "def joker_hand_strength(hand: Hand) -> tuple[list[int], Hand]:\n",
    "    counter = Counter(hand)\n",
    "    joker = CARD_VALUES['J']\n",
    "    if joker not in counter:\n",
    "        return sorted(counter.values(), reverse=True), hand\n",
    "    else:\n",
    "        new_hand: Hand = tuple(0 if card == joker else card for card in hand)  # type: ignore\n",
    "        best_cards = [card for card, count in counter.most_common()]\n",
    "        if best_cards[0] == joker:\n",
    "            joker_value = best_cards[1] if len(best_cards) > 1 else 14\n",
    "        else:\n",
    "            joker_value = best_cards[0]\n",
    "        joker_hand = tuple(joker_value if card == joker else card for card in hand)\n",
    "        joker_counts = [count for card, count in Counter(joker_hand).most_common()]\n",
    "        return joker_counts, new_hand\n",
    "\n",
    "\n",
    "def main():\n",
    "    hands_bids = list(parse_input(line.rstrip('\\n') for line in text))\n",
    "    sorted_hands = sorted(hands_bids, key=lambda hand_bid: hand_strength(hand_bid[0]))\n",
    "    print(sum(bid * i for i, (hand, bid) in enumerate(sorted_hands, start=1)))\n",
    "    sorted_joker_hands = sorted(hands_bids, key=lambda hand_bid: joker_hand_strength(hand_bid[0]))\n",
    "    print(sum(bid * i for i, (hand, bid) in enumerate(sorted_joker_hands, start=1)))\n",
    "\n",
    "\n",
    "if __name__ == '__main__':\n",
    "    main()"
   ]
  },
  {
   "cell_type": "markdown",
   "id": "ad81113b-5912-4fa6-8763-2005548dcc44",
   "metadata": {},
   "source": [
    "## Day 8"
   ]
  },
  {
   "cell_type": "code",
   "execution_count": 15,
   "id": "cacc83de-9d33-4d13-9165-b9a2042d48ac",
   "metadata": {
    "jupyter": {
     "source_hidden": true
    },
    "tags": []
   },
   "outputs": [],
   "source": [
    "import string\n",
    "import os\n",
    "\n",
    "day = 8\n",
    "file = fr\"C:\\Users\\tkarakay\\Desktop\\GitHub\\advent-of-code\\inputs\\day{day}_input.txt\"\n",
    "\n",
    "if not os.path.isfile(file):\n",
    "    try:\n",
    "        os.system(f\"python get_input.py --year 2023 --day {day}\")\n",
    "    except Exception as e:\n",
    "        print(e)\n",
    "\n",
    "with open(file, \"r\", ) as f:\n",
    "    text = f.read().strip().split(\"\\n\")\n",
    "    f.close()"
   ]
  },
  {
   "cell_type": "code",
   "execution_count": 16,
   "id": "bd2a2019-80fe-426b-9426-6ebe96b68552",
   "metadata": {
    "jupyter": {
     "source_hidden": true
    },
    "tags": []
   },
   "outputs": [
    {
     "name": "stdout",
     "output_type": "stream",
     "text": [
      "First solution: 20513\n",
      "Second solution: 15995167053923\n"
     ]
    }
   ],
   "source": [
    "from math import lcm\n",
    "with open(file) as aoc:\n",
    "    dirs, paths = aoc.read().split('\\n\\n')\n",
    "    paths = {k.strip():v[2:-1].replace(' ','').split(',')\n",
    "             for k,v in (line.split('=') for line in paths.splitlines())}\n",
    "    starts = [k for k in paths if k.endswith('A')]\n",
    "\n",
    "def steps(s):\n",
    "    c = 0\n",
    "    while s[-1] != 'Z':\n",
    "        d = dirs[c%len(dirs)]\n",
    "        s = paths[s][d =='R']\n",
    "        c += 1\n",
    "    return c\n",
    "\n",
    "print('First solution:', steps('AAA'))\n",
    "print('Second solution:', lcm(*map(steps,starts)))"
   ]
  },
  {
   "cell_type": "code",
   "execution_count": 17,
   "id": "e269f956-c6a5-4d80-922d-16ac68448aff",
   "metadata": {
    "jupyter": {
     "source_hidden": true
    },
    "tags": []
   },
   "outputs": [
    {
     "name": "stdout",
     "output_type": "stream",
     "text": [
      "20513\n",
      "15995167053923\n"
     ]
    }
   ],
   "source": [
    "import sys\n",
    "from itertools import cycle, islice\n",
    "from math import lcm\n",
    "\n",
    "def follow(instructions, graph, cur, end):\n",
    "    for step, inst in enumerate(cycle(instructions)):\n",
    "        if cur.endswith(end):\n",
    "            return step\n",
    "        cur = graph[cur][inst]\n",
    "\n",
    "with open(file,\"r\") as f:\n",
    "    text = f.read().split(\"\\n\")\n",
    "inst = ['LR'.index(c) for c in text[0]]\n",
    "graph = {l[:3]: (l[7:10], l[12:15]) for l in islice(text, 1, None)}\n",
    "print(follow(inst, graph, 'AAA', 'ZZZ'))\n",
    "print(lcm(*(follow(inst, graph, n, 'Z') for n in graph if n.endswith('A'))))"
   ]
  },
  {
   "cell_type": "code",
   "execution_count": 18,
   "id": "d8cba7c9-7cbd-4577-b62c-22b676284c70",
   "metadata": {
    "jupyter": {
     "source_hidden": true
    },
    "tags": []
   },
   "outputs": [
    {
     "name": "stdout",
     "output_type": "stream",
     "text": [
      "p1 20513\n",
      "p2 15995167053923\n"
     ]
    }
   ],
   "source": [
    "ll = [x for x in open(file).read().strip().split('\\n\\n')]\n",
    "\n",
    "import math\n",
    "\n",
    "inst = list(ll[0])\n",
    "conn = {}\n",
    "for l in ll[1].split(\"\\n\"):\n",
    "\ta = l.split(\" \")[0]\n",
    "\tb = l.split(\"(\")[1].split(\",\")[0]\n",
    "\tc = l.split(\" \")[3].split(\")\")[0]\n",
    "\tconn[a] = (b, c)\n",
    "pos = 'AAA'\n",
    "idx = 0\n",
    "while pos != 'ZZZ':\n",
    "\td = inst[idx%len(inst)]\n",
    "\tpos = conn[pos][0 if d=='L' else 1]\n",
    "\tidx += 1\n",
    "print(\"p1\", idx)\n",
    "def solvesteps(start):\n",
    "\tpos = start\n",
    "\tidx = 0\n",
    "\twhile not pos.endswith('Z'):\n",
    "\t\td = inst[idx%len(inst)]\n",
    "\t\tpos = conn[pos][0 if d=='L' else 1]\n",
    "\t\tidx += 1\n",
    "\treturn idx\n",
    "ret = 1\n",
    "for start in conn:\n",
    "\tif start.endswith('A'):\n",
    "\t\tret = math.lcm(ret, solvesteps(start))\n",
    "print(\"p2\", ret)"
   ]
  },
  {
   "cell_type": "markdown",
   "id": "341f5272-4db2-44b8-81e5-c3d01144bb8b",
   "metadata": {},
   "source": [
    "## Day 9"
   ]
  },
  {
   "cell_type": "code",
   "execution_count": 19,
   "id": "b17f0f3f-64c9-4e5a-9311-0ee74fdb33b9",
   "metadata": {
    "tags": []
   },
   "outputs": [],
   "source": [
    "import string\n",
    "import os\n",
    "\n",
    "day = 9\n",
    "file = fr\"C:\\Users\\tkarakay\\Desktop\\GitHub\\advent-of-code\\inputs\\day{day}_input.txt\"\n",
    "\n",
    "if not os.path.isfile(file):\n",
    "    try:\n",
    "        os.system(f\"python get_input.py --year 2023 --day {day}\")\n",
    "    except Exception as e:\n",
    "        print(e)\n",
    "\n",
    "with open(file, \"r\", ) as f:\n",
    "    text = f.read().strip().split(\"\\n\")\n",
    "    f.close()"
   ]
  },
  {
   "cell_type": "code",
   "execution_count": 20,
   "id": "a2034de8-3c60-4bf7-b15e-cadc5bd38b32",
   "metadata": {
    "tags": []
   },
   "outputs": [
    {
     "name": "stdout",
     "output_type": "stream",
     "text": [
      "[1819125966, 1140]\n"
     ]
    }
   ],
   "source": [
    "l=[[*map(int,s.split())]for s in open(file)]\n",
    "print([sum(map((f:=lambda l:l[p]+((-1,1)[p])*f([b-a for\n",
    "a,b in zip(l,l[1:])])if any(l)else 0),l))for p in[-1,0]])"
   ]
  },
  {
   "cell_type": "markdown",
   "id": "7e87fbdc-18a3-4ee5-8c09-1dc9fbf28ee4",
   "metadata": {},
   "source": [
    "## Day 10"
   ]
  },
  {
   "cell_type": "code",
   "execution_count": 21,
   "id": "17c45ff9-2d2f-4423-a59f-be46f2ef3f89",
   "metadata": {
    "tags": []
   },
   "outputs": [],
   "source": [
    "import string\n",
    "import os\n",
    "\n",
    "day = 10\n",
    "file = fr\"C:\\Users\\tkarakay\\Desktop\\GitHub\\advent-of-code\\inputs\\day{day}_input.txt\"\n",
    "\n",
    "if not os.path.isfile(file):\n",
    "    try:\n",
    "        os.system(f\"python get_input.py --year 2023 --day {day}\")\n",
    "    except Exception as e:\n",
    "        print(e)\n",
    "\n",
    "with open(file, \"r\", ) as f:\n",
    "    text = f.read().strip().split(\"\\n\")\n",
    "    f.close()"
   ]
  },
  {
   "cell_type": "code",
   "execution_count": 22,
   "id": "36adfeae-a930-4528-8192-e14a3553563e",
   "metadata": {
    "jupyter": {
     "source_hidden": true
    },
    "tags": []
   },
   "outputs": [
    {
     "name": "stdout",
     "output_type": "stream",
     "text": [
      "First solution: 6768 \n",
      "Second solution: 363\n"
     ]
    }
   ],
   "source": [
    "d, q, r, n = (lambda t: (t, {min((t[j].find(\"S\"),j) for j in range(len(t)) if \"S\" in t[j])}, set(), -2))(text)\n",
    "\n",
    "while q or print(\"First solution:\", n, \"\\nSecond solution:\", sum(sum(d[j][k] in \"|JLS\" for k in range(i) if (k,j) in r)%2 \n",
    "              for j in range(len(d)) \n",
    "              for i in range(len(d[j])) \n",
    "              if (i,j) not in r)):\n",
    "    r, q, n = r|q, {(u,v) \n",
    "                    for x,y in q-r \n",
    "                    for u,v,f,g in [(x+1, y, \"-LFS\", \"-J7\"), (x-1, y, \"-J7S\", \"-LF\"), (x, y+1, \"|F7S\", \"|LJ\"), (x, y-1, \"|LJS\", \"|F7\")] \n",
    "                    if 0 <= v < len(d) \n",
    "                    and 0 <= u < len(d[v]) \n",
    "                    and d[y][x] in f \n",
    "                    and d[v][u] in g}, n+1\n"
   ]
  },
  {
   "cell_type": "code",
   "execution_count": 23,
   "id": "87c60b7f-ed75-493c-9d4e-227b83168240",
   "metadata": {
    "jupyter": {
     "source_hidden": true
    },
    "tags": []
   },
   "outputs": [
    {
     "name": "stdout",
     "output_type": "stream",
     "text": [
      "First solution: 6768 \n",
      "Second solution: 362\n"
     ]
    }
   ],
   "source": [
    "maze = {complex(i,j): c for i,r in enumerate(text)\n",
    "                        for j,c in enumerate(r.strip())}\n",
    "\n",
    "N, S, E, W = -1, +1, +1j, -1j\n",
    "dirs = {'|': (N, S), '-': (E, W), 'L': (N, E),\n",
    "        'J': (N, W), '7': (S, W), 'F': (S, E),\n",
    "        'S': (N, E, S, W), '.':()}\n",
    "\n",
    "graph = {p: {p+d for d in dirs[c]} for p,c in maze.items()}\n",
    "start = [p for p,d in graph.items() if len(d) == 4][0]\n",
    "\n",
    "seen = {start}\n",
    "while todo := graph[start]:\n",
    "    node = todo.pop()\n",
    "    seen |= {node}\n",
    "    todo |= graph[node]-seen\n",
    "\n",
    "irange = lambda n: [complex(n.real, i) for i in range(int(n.imag))]\n",
    "\n",
    "print(\"First solution:\", len(seen)//2,\n",
    "      \"\\nSecond solution:\", sum(sum(maze[m] in \"|JLS\" and m in seen for m in irange(p)) % 2\n",
    "          for p in set(maze)-seen))"
   ]
  },
  {
   "cell_type": "code",
   "execution_count": 24,
   "id": "c1ec5af6-e253-4e13-ab38-7e94f862e3e1",
   "metadata": {
    "jupyter": {
     "source_hidden": true
    },
    "tags": []
   },
   "outputs": [
    {
     "name": "stdout",
     "output_type": "stream",
     "text": [
      "Part 1: 6768\n",
      "Part 2: 364\n"
     ]
    }
   ],
   "source": [
    "# this queue is synchronized, which is pretty pointless...\n",
    "from queue import Queue\n",
    "\n",
    "with open(file, \"r\") as f:\n",
    "    m = [l.strip() for l in f]\n",
    "\n",
    "    n = {\n",
    "        \"|\": [ ( 0,-1), ( 0, 1) ],\n",
    "        \"-\": [ (-1, 0), ( 1, 0) ],\n",
    "        \"L\": [ ( 0,-1), ( 1, 0) ],\n",
    "        \"J\": [ ( 0,-1), (-1, 0) ],\n",
    "        \"7\": [ (-1, 0), ( 0, 1) ],\n",
    "        \"F\": [ ( 1, 0), ( 0, 1) ],\n",
    "    }\n",
    "\n",
    "    x,y = None, None\n",
    "\n",
    "    for yi,line in enumerate(m):\n",
    "        for xi,c in enumerate(line):\n",
    "            if c == \"S\":\n",
    "                x,y = xi,yi\n",
    "                break\n",
    "\n",
    "    assert(x != None)\n",
    "    assert(y != None)\n",
    "\n",
    "    q = Queue()\n",
    "    \n",
    "    for dx,dy in [(-1,0),(1,0),(0,-1),(0,1)]:\n",
    "        c = m[y+dy][x+dx]\n",
    "        if c in n:\n",
    "            for dx2,dy2 in n[c]:\n",
    "                if x == x+dx+dx2 and y == y+dy+dy2:\n",
    "                    q.put((1,(x+dx,y+dy)))\n",
    "\n",
    "    dists = { (x,y): 0 }\n",
    "    assert(q.qsize() == 2)\n",
    "\n",
    "    while not q.empty():\n",
    "        d,(x,y) = q.get()\n",
    "\n",
    "        if (x,y) in dists:\n",
    "            continue\n",
    "\n",
    "        #print(d,(x,y))\n",
    "        dists[(x,y)] = d\n",
    "\n",
    "        for dx,dy in n[m[y][x]]:\n",
    "            q.put((d+1,(x+dx,y+dy)))\n",
    "\n",
    "    print(f\"Part 1: {max(dists.values())}\")\n",
    "    \n",
    "    w = len(m[0])\n",
    "    h = len(m)\n",
    "    \n",
    "    inside_count = 0\n",
    "    for y,line in enumerate(m):\n",
    "        for x,c in enumerate(line):\n",
    "            if (x,y) in dists:\n",
    "                continue\n",
    "            \n",
    "            crosses = 0\n",
    "            x2,y2 = x,y\n",
    "\n",
    "            while x2 < w and y2 < h:\n",
    "                c2 = m[y2][x2]\n",
    "                if (x2,y2) in dists and c2 != \"L\" and c2 != \"7\":\n",
    "                    crosses += 1\n",
    "                x2 += 1\n",
    "                y2 += 1\n",
    "\n",
    "\n",
    "            if crosses % 2 == 1:\n",
    "                inside_count += 1\n",
    "\n",
    "    print(f\"Part 2: {inside_count}\")\n"
   ]
  },
  {
   "cell_type": "markdown",
   "id": "e747f8d8-bd78-46d7-b3ef-480bee338647",
   "metadata": {},
   "source": [
    "## Day 11"
   ]
  },
  {
   "cell_type": "code",
   "execution_count": 25,
   "id": "9d61f1d5-9212-48fb-baf8-16cd49f95347",
   "metadata": {},
   "outputs": [],
   "source": [
    "import string\n",
    "import os\n",
    "\n",
    "day = 11\n",
    "file = fr\"C:\\Users\\tkarakay\\Desktop\\GitHub\\advent-of-code\\inputs\\day{day}_input.txt\"\n",
    "\n",
    "if not os.path.isfile(file):\n",
    "    try:\n",
    "        os.system(f\"python get_input.py --year 2023 --day {day}\")\n",
    "    except Exception as e:\n",
    "        print(e)\n",
    "\n",
    "with open(file, \"r\", ) as f:\n",
    "    text = f.read().strip().split(\"\\n\")\n",
    "    f.close()"
   ]
  },
  {
   "cell_type": "code",
   "execution_count": 26,
   "id": "88f269ea-8a93-4ef6-b4aa-bc828c8de4d5",
   "metadata": {
    "jupyter": {
     "source_hidden": true
    },
    "tags": []
   },
   "outputs": [
    {
     "name": "stdout",
     "output_type": "stream",
     "text": [
      "First solution: 9684228\n",
      "Second solution: 483844716556\n"
     ]
    }
   ],
   "source": [
    "from copy import deepcopy as dp\n",
    "\n",
    "t=0 \n",
    "\n",
    "x=\"\"\"...#......\n",
    ".......#..\n",
    "#.........\n",
    "..........\n",
    "......#...\n",
    ".#........\n",
    ".........#\n",
    "..........\n",
    ".......#..\n",
    "#...#.....\"\"\".splitlines()\n",
    "\n",
    "x = text\n",
    "y=[]\n",
    "for i in x:\n",
    "    y.append(i)\n",
    "    if \"#\" not in i:\n",
    "        y.append(i)\n",
    "\n",
    "\n",
    "y=list(zip(*y))\n",
    "x=dp(y)\n",
    "y=[]\n",
    "\n",
    "\n",
    "for i in x:\n",
    "    y.append(i)\n",
    "    if \"#\" not in i:\n",
    "        y.append(i)\n",
    "\n",
    "\n",
    "x=dp(y)\n",
    "v=set()\n",
    "for i in range(len(x)):\n",
    "    for r in range(len(x[0])):\n",
    "        if x[i][r]==\"#\":\n",
    "            v.add((i,r))\n",
    "\n",
    "v=list(v)\n",
    "for i in range(len(v)):\n",
    "    for r in range(i+1,len(v)):\n",
    "        t+=abs(v[i][0]-v[r][0])+abs(v[i][1]-v[r][1])\n",
    "\n",
    "\n",
    "\n",
    "print(\"First solution:\", t) \n",
    "\n",
    "\n",
    "print(\"Second solution:\",sum(map(lambda g:\n",
    "    sum(sum(map(i.__ge__, g)) * (i in g or 1000000) * \n",
    "        sum(map(i.__lt__, g)) for i in range(max(g))),\n",
    "    zip(*[(x,y) for y,r in enumerate(text)\n",
    "                for x,c in enumerate(r) if c=='#']))))"
   ]
  },
  {
   "cell_type": "markdown",
   "id": "84dc2b55-6c47-47ed-8280-d935f8d1e6c1",
   "metadata": {},
   "source": [
    "## Day 12"
   ]
  },
  {
   "cell_type": "code",
   "execution_count": 27,
   "id": "d67cd2db-7b42-4a10-aaab-e631b213a1f3",
   "metadata": {
    "jupyter": {
     "source_hidden": true
    },
    "tags": []
   },
   "outputs": [],
   "source": [
    "import string\n",
    "import os\n",
    "\n",
    "day = 12\n",
    "file = fr\"C:\\Users\\tkarakay\\Desktop\\GitHub\\advent-of-code\\inputs\\day{day}_input.txt\"\n",
    "\n",
    "if not os.path.isfile(file):\n",
    "    try:\n",
    "        os.system(f\"python get_input.py --year 2023 --day {day}\")\n",
    "    except Exception as e:\n",
    "        print(e)\n",
    "\n",
    "with open(file, \"r\", ) as f:\n",
    "    text = f.read().strip().split(\"\\n\")\n",
    "    f.close()"
   ]
  },
  {
   "cell_type": "code",
   "execution_count": 28,
   "id": "387f1887-d5e8-4c1b-8e71-5911478d58ac",
   "metadata": {},
   "outputs": [
    {
     "name": "stdout",
     "output_type": "stream",
     "text": [
      "Solution 1: 7195\n",
      "Solution 2: 33992866292225\n"
     ]
    }
   ],
   "source": [
    "from functools import*\n",
    "C=cache(lambda l,c=0,*e:c and~sum(~C(l[i-~c:],*e)for i in range(99)if('#'in l[i+c]+l[:i]or'.'in l[i:i+c])<1)or('#'in l)-2)\n",
    "*i,=text\n",
    "for idx, n in enumerate([1,5], start=1):\n",
    "    print(f\"Solution {idx}:\", sum(~C(l+('?'+l)*~-n+'.'*199,*eval(r)*n)for l,r in map(str.split,i)))"
   ]
  },
  {
   "cell_type": "markdown",
   "id": "8e394484-9d3d-48a9-bcf9-7bef4e3b7baf",
   "metadata": {},
   "source": [
    "## Day 13"
   ]
  },
  {
   "cell_type": "code",
   "execution_count": 11,
   "id": "fcc2759f-104c-4626-a5c0-77714badf273",
   "metadata": {
    "jupyter": {
     "source_hidden": true
    },
    "tags": []
   },
   "outputs": [],
   "source": [
    "import string\n",
    "import os\n",
    "\n",
    "day = 13\n",
    "file = fr\"C:\\Users\\tkarakay\\Desktop\\GitHub\\advent-of-code\\inputs\\day{day}_input.txt\"\n",
    "\n",
    "if not os.path.isfile(file):\n",
    "    try:\n",
    "        os.system(f\"python get_input.py --year 2023 --day {day}\")\n",
    "    except Exception as e:\n",
    "        print(e)\n",
    "\n",
    "with open(file, \"r\", ) as f:\n",
    "    text = f.read().strip().split(\"\\n\\n\")\n",
    "    f.close()"
   ]
  },
  {
   "cell_type": "code",
   "execution_count": 15,
   "id": "cb6ba24f-f8fe-4bf8-b1dd-730e89f1d66b",
   "metadata": {},
   "outputs": [
    {
     "name": "stdout",
     "output_type": "stream",
     "text": [
      "First solution: 36015\n",
      "Second solution: 35335\n"
     ]
    }
   ],
   "source": [
    "\"\"\"\n",
    "--- Day 13: Point of Incidence ---\n",
    "\"\"\"\n",
    "#from aocd import get_data\n",
    "import numpy as np\n",
    "\n",
    "\n",
    "def symmetry(arr, margin):\n",
    "    \"\"\"Find line of symmetry in 2D array\"\"\"\n",
    "    i = 1\n",
    "    while i < len(arr):\n",
    "        lhs = arr[:i]\n",
    "        rhs = arr[i:]\n",
    "        if len(lhs) > len(rhs):\n",
    "            lhs = lhs[len(lhs) - len(rhs) :]\n",
    "        elif len(rhs) > len(lhs):\n",
    "            rhs = rhs[: len(lhs)]\n",
    "        rhs = np.flip(rhs, axis=0)\n",
    "        if np.count_nonzero(lhs != rhs) == margin:\n",
    "            return i\n",
    "        i += 1\n",
    "    return False\n",
    "\n",
    "\n",
    "\n",
    "stream = [line.splitlines() for line in text]\n",
    "\n",
    "def iterate(margin):\n",
    "    \"\"\"Iterate across all puzzles and get symmetry score\"\"\"\n",
    "    r = 0\n",
    "    for dis in stream:\n",
    "        data = np.array([list(l) for l in dis])\n",
    "        transpose = data.T\n",
    "\n",
    "        val = symmetry(transpose, margin)\n",
    "        if not val:\n",
    "            val = 100 * symmetry(data, margin)\n",
    "        r += val\n",
    "    return r\n",
    "\n",
    "\n",
    "print(\"First solution:\", iterate(0))\n",
    "print(\"Second solution:\", iterate(1))"
   ]
  },
  {
   "cell_type": "code",
   "execution_count": null,
   "id": "f2ea2fc9-a581-4a9d-8bdd-8fbd94ffd9d0",
   "metadata": {},
   "outputs": [],
   "source": []
  }
 ],
 "metadata": {
  "kernelspec": {
   "display_name": "Dataanalysis",
   "language": "python",
   "name": "dataanalysis"
  },
  "language_info": {
   "codemirror_mode": {
    "name": "ipython",
    "version": 3
   },
   "file_extension": ".py",
   "mimetype": "text/x-python",
   "name": "python",
   "nbconvert_exporter": "python",
   "pygments_lexer": "ipython3",
   "version": "3.9.16"
  }
 },
 "nbformat": 4,
 "nbformat_minor": 5
}
