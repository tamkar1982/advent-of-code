{
 "cells": [
  {
   "cell_type": "markdown",
   "id": "e26483db-3b7c-4b1e-a951-ce0c1d2da610",
   "metadata": {},
   "source": [
    "# AdventOfCode 2023"
   ]
  },
  {
   "cell_type": "markdown",
   "id": "89505a70-7113-45cb-b217-f6b7fea178be",
   "metadata": {},
   "source": [
    "## Day 1"
   ]
  },
  {
   "cell_type": "code",
   "execution_count": 1,
   "id": "40428a7f-3936-4065-8eeb-0d438ddbfbca",
   "metadata": {},
   "outputs": [
    {
     "name": "stdout",
     "output_type": "stream",
     "text": [
      "First solution: 56108\n",
      "Second solution: 55652\n"
     ]
    }
   ],
   "source": [
    "import string\n",
    "import os\n",
    "\n",
    "day = 1\n",
    "file = fr\"C:\\Users\\tkarakay\\Desktop\\GitHub\\advent-of-code\\inputs\\day{day}_input.txt\"\n",
    "\n",
    "if not os.path.isfile(file):\n",
    "    try:\n",
    "        os.system(f\"python get_input.py --year 2023 --day {day}\")\n",
    "    except Exception as e:\n",
    "        print(e)\n",
    "\n",
    "with open(file, \"r\") as f:\n",
    "    text = f.read().strip().split(\"\\n\")\n",
    "    f.close()\n",
    "\n",
    "    \n",
    "# First Puzzle\n",
    "points = 0\n",
    "for line in text:\n",
    "    temp = [x for x in line if x in string.digits]\n",
    "    points += int(temp[0]+temp[-1])\n",
    "print(\"First solution:\", points)\n",
    "\n",
    "\n",
    "# Second Puzzle\n",
    "num_dict = {\"one\": \"o1e\",\n",
    "             \"two\": \"t2o\",\n",
    "             \"three\":\"t3e\",\n",
    "             \"four\": \"f4r\",\n",
    "             \"five\": \"f5e\",\n",
    "             \"six\": \"s6x\",\n",
    "             \"seven\": \"s7n\",\n",
    "             \"eight\": \"e8t\",\n",
    "             \"nine\": \"n9e\",\n",
    "            }\n",
    "\n",
    "def change(s):\n",
    "    temp = s\n",
    "    for k,v in num_dict.items():\n",
    "        if k in temp:\n",
    "            temp = temp.replace(k,v)\n",
    "    return temp\n",
    "\n",
    "points = 0\n",
    "for line in text:\n",
    "    line = change(line)\n",
    "    temp = [x for x in line if x in string.digits]\n",
    "    points += int(temp[0]+temp[-1])\n",
    "print(\"Second solution:\", points)"
   ]
  },
  {
   "cell_type": "markdown",
   "id": "29288583-7e83-444f-95af-dfba578ecdbb",
   "metadata": {},
   "source": [
    "## Day 2"
   ]
  },
  {
   "cell_type": "code",
   "execution_count": null,
   "id": "cc801add-afa6-4ae1-bd10-9f89a383771f",
   "metadata": {},
   "outputs": [],
   "source": [
    "import string\n",
    "import os\n",
    "\n",
    "day = 2\n",
    "file = fr\"C:\\Users\\tkarakay\\Desktop\\GitHub\\advent-of-code\\inputs\\day{day}_input.txt\"\n",
    "\n",
    "if not os.path.isfile(file):\n",
    "    try:\n",
    "        os.system(f\"python get_input.py --year 2023 --day {day}\")\n",
    "    except Exception as e:\n",
    "        print(e)\n",
    "\n",
    "with open(file, \"r\", ) as f:\n",
    "    text = f.read().strip().split(\"\\n\")\n",
    "    f.close()\n",
    "\n",
    "text"
   ]
  },
  {
   "cell_type": "code",
   "execution_count": null,
   "id": "cecf9383-3dbe-4918-9608-8fb0de1d0765",
   "metadata": {},
   "outputs": [],
   "source": []
  },
  {
   "cell_type": "code",
   "execution_count": null,
   "id": "dab81916-0f98-4fcf-83b7-d7cd72446569",
   "metadata": {},
   "outputs": [],
   "source": []
  },
  {
   "cell_type": "code",
   "execution_count": null,
   "id": "a99eb34e-58c0-408b-8aae-22c5a8b0d6d8",
   "metadata": {},
   "outputs": [],
   "source": []
  }
 ],
 "metadata": {
  "kernelspec": {
   "display_name": "Dataanalysis",
   "language": "python",
   "name": "dataanalysis"
  },
  "language_info": {
   "codemirror_mode": {
    "name": "ipython",
    "version": 3
   },
   "file_extension": ".py",
   "mimetype": "text/x-python",
   "name": "python",
   "nbconvert_exporter": "python",
   "pygments_lexer": "ipython3",
   "version": "3.9.16"
  }
 },
 "nbformat": 4,
 "nbformat_minor": 5
}
