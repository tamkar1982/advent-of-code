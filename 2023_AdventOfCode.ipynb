{
 "cells": [
  {
   "cell_type": "markdown",
   "id": "e26483db-3b7c-4b1e-a951-ce0c1d2da610",
   "metadata": {},
   "source": [
    "# AdventOfCode 2023"
   ]
  },
  {
   "cell_type": "markdown",
   "id": "89505a70-7113-45cb-b217-f6b7fea178be",
   "metadata": {},
   "source": [
    "## Day 1"
   ]
  },
  {
   "cell_type": "code",
   "execution_count": 16,
   "id": "40428a7f-3936-4065-8eeb-0d438ddbfbca",
   "metadata": {
    "tags": []
   },
   "outputs": [
    {
     "name": "stdout",
     "output_type": "stream",
     "text": [
      "First solution: 56108\n",
      "Second solution: 55652\n"
     ]
    }
   ],
   "source": [
    "import string\n",
    "import os\n",
    "\n",
    "day = 1\n",
    "file = fr\"C:\\Users\\tkarakay\\Desktop\\GitHub\\advent-of-code\\inputs\\day{day}_input.txt\"\n",
    "\n",
    "if not os.path.isfile(file):\n",
    "    try:\n",
    "        os.system(f\"python get_input.py --year 2023 --day {day}\")\n",
    "    except Exception as e:\n",
    "        print(e)\n",
    "\n",
    "with open(file, \"r\") as f:\n",
    "    text = f.read().strip().split(\"\\n\")\n",
    "    f.close()\n",
    "\n",
    "    \n",
    "# First Puzzle\n",
    "points = 0\n",
    "for line in text:\n",
    "    temp = [x for x in line if x in string.digits]\n",
    "    points += int(temp[0]+temp[-1])\n",
    "print(\"First solution:\", points)\n",
    "\n",
    "\n",
    "# Second Puzzle\n",
    "num_dict = {\"one\": \"o1e\",\n",
    "             \"two\": \"t2o\",\n",
    "             \"three\":\"t3e\",\n",
    "             \"four\": \"f4r\",\n",
    "             \"five\": \"f5e\",\n",
    "             \"six\": \"s6x\",\n",
    "             \"seven\": \"s7n\",\n",
    "             \"eight\": \"e8t\",\n",
    "             \"nine\": \"n9e\",\n",
    "            }\n",
    "\n",
    "def change(s):\n",
    "    temp = s\n",
    "    for k,v in num_dict.items():\n",
    "        if k in temp:\n",
    "            temp = temp.replace(k,v)\n",
    "    return temp\n",
    "\n",
    "points = 0\n",
    "for line in text:\n",
    "    line = change(line)\n",
    "    temp = [x for x in line if x in string.digits]\n",
    "    points += int(temp[0]+temp[-1])\n",
    "print(\"Second solution:\", points)"
   ]
  },
  {
   "cell_type": "markdown",
   "id": "29288583-7e83-444f-95af-dfba578ecdbb",
   "metadata": {},
   "source": [
    "## Day 2"
   ]
  },
  {
   "cell_type": "code",
   "execution_count": 24,
   "id": "cc801add-afa6-4ae1-bd10-9f89a383771f",
   "metadata": {
    "tags": []
   },
   "outputs": [
    {
     "name": "stdout",
     "output_type": "stream",
     "text": [
      "First solution: 2369\n",
      "Second solution: 66363\n"
     ]
    }
   ],
   "source": [
    "import string\n",
    "import os\n",
    "\n",
    "day = 2\n",
    "file = fr\"C:\\Users\\tkarakay\\Desktop\\GitHub\\advent-of-code\\inputs\\day{day}_input.txt\"\n",
    "\n",
    "if not os.path.isfile(file):\n",
    "    try:\n",
    "        os.system(f\"python get_input.py --year 2023 --day {day}\")\n",
    "    except Exception as e:\n",
    "        print(e)\n",
    "\n",
    "with open(file, \"r\", ) as f:\n",
    "    text = f.read().strip().split(\"\\n\")\n",
    "    f.close()\n",
    "\n",
    "from math import prod\n",
    "\n",
    "games = []\n",
    "# Each game is broken into a list of dictionaries with the amounts of each cube\n",
    "for line in text:\n",
    "    # Get each draw from the game\n",
    "    game = line.strip().split(\": \")[1].split(\"; \")\n",
    "    for i in range(len(game)):\n",
    "        game[i] = game[i].split(\", \")\n",
    "        draw = game[i]\n",
    "\n",
    "        # Get each cube from the draw\n",
    "        my_dict = {}\n",
    "        for cube in draw:\n",
    "            count, color = cube.split(\" \")\n",
    "            my_dict[color] = int(count)\n",
    "        game[i] = my_dict\n",
    "\n",
    "    games.append(game)\n",
    "\n",
    "# Maximum counts for Part 1\n",
    "max_cube = {\n",
    "    \"red\": 12,\n",
    "    \"green\": 13,\n",
    "    \"blue\": 14,\n",
    "}\n",
    "\n",
    "#---------- Part 1 ----------#\n",
    "\n",
    "solution_p1 = 0\n",
    "for n, game in enumerate(games, start=1):\n",
    "    valid = True\n",
    "    \n",
    "    for draw in game:\n",
    "        for color, count in draw.items():\n",
    "            if count > max_cube[color]:\n",
    "                # If a color count is greater than its maximum, then the game is invalid\n",
    "                valid = False\n",
    "                break\n",
    "        if not valid: break\n",
    "    \n",
    "    if valid:\n",
    "        solution_p1 += n\n",
    "\n",
    "print(\"First solution:\", solution_p1)\n",
    "\n",
    "#---------- Part 2 ----------#\n",
    "\n",
    "solution_p2 = 0\n",
    "for game in games:\n",
    "    min_cube = {\n",
    "    \"red\": 0,\n",
    "    \"green\": 0,\n",
    "    \"blue\": 0,\n",
    "    }\n",
    "\n",
    "    for draw in game:\n",
    "        for color, count in draw.items():\n",
    "            if (min_cube[color] < count):\n",
    "                # The minimum amount of a color should be the greatest amount of that color among all draws\n",
    "                min_cube[color] = count\n",
    "    \n",
    "    solution_p2 += prod(min_cube.values())\n",
    "\n",
    "print(\"Second solution:\", solution_p2)"
   ]
  },
  {
   "cell_type": "markdown",
   "id": "9eb6a638-5ec0-4b0d-9f32-170f2c89db24",
   "metadata": {},
   "source": [
    "## Day 3"
   ]
  },
  {
   "cell_type": "code",
   "execution_count": 25,
   "id": "cecf9383-3dbe-4918-9608-8fb0de1d0765",
   "metadata": {},
   "outputs": [
    {
     "name": "stdout",
     "output_type": "stream",
     "text": [
      "First solution: 532428\n",
      "Second solution: 84051670\n"
     ]
    }
   ],
   "source": [
    "import string\n",
    "import os\n",
    "\n",
    "day = 3\n",
    "file = fr\"C:\\Users\\tkarakay\\Desktop\\GitHub\\advent-of-code\\inputs\\day{day}_input.txt\"\n",
    "\n",
    "if not os.path.isfile(file):\n",
    "    try:\n",
    "        os.system(f\"python get_input.py --year 2023 --day {day}\")\n",
    "    except Exception as e:\n",
    "        print(e)\n",
    "\n",
    "with open(file, \"r\", ) as f:\n",
    "    text = f.read().strip().split(\"\\n\")\n",
    "    f.close()\n",
    "\n",
    "import re\n",
    "\n",
    "g = text\n",
    "sol = 0\n",
    "for x in range(len(g)):\n",
    "    for match in re.finditer('\\d+', g[x]):\n",
    "        try:\n",
    "            for y in range(*match.span()):\n",
    "                for i in range(-1, 2):\n",
    "                    for j in range(-1, 2):\n",
    "                        assert not (0 <= x+i < len(g) and 0 <= y+j < len(g) and not g[x+i][y+j].isdigit() and g[x+i][y+j] != '.')\n",
    "        except: sol += int(match.group())\n",
    "print(\"First solution:\", sol)\n",
    "\n",
    "\n",
    "sol = 0\n",
    "adj = [[[] for x in range(len(g))] for x in range(len(g))]\n",
    "for x in range(len(g)):\n",
    "    for match in re.finditer('\\d+', g[x]):\n",
    "        for y in range(*match.span()):\n",
    "            for i in range(-1, 2):\n",
    "                for j in range(-1 if y == match.span()[0] else 0, 1 if y < match.span()[1]-1 else 2):\n",
    "                    if 0 <= x+i < len(g) and 0 <= y+j < len(g) and g[x+i][y+j] == '*':\n",
    "                        adj[x+i][y+j].append(int(match.group()))\n",
    "print(\"Second solution:\",sum(adj[x][y][0]*adj[x][y][1] for x in range(len(g)) for y in range(len(g)) if len(adj[x][y]) == 2))"
   ]
  },
  {
   "cell_type": "markdown",
   "id": "9720ed35-008f-4596-9a88-3b2000feae1e",
   "metadata": {},
   "source": [
    "## Day 4"
   ]
  },
  {
   "cell_type": "code",
   "execution_count": 26,
   "id": "075948a8-d149-4717-8b1d-02bb08a991bc",
   "metadata": {
    "tags": []
   },
   "outputs": [
    {
     "name": "stdout",
     "output_type": "stream",
     "text": [
      "First solution: 18619\n",
      "Second solution: 8063216\n"
     ]
    }
   ],
   "source": [
    "import string\n",
    "import os\n",
    "\n",
    "day = 4\n",
    "file = fr\"C:\\Users\\tkarakay\\Desktop\\GitHub\\advent-of-code\\inputs\\day{day}_input.txt\"\n",
    "\n",
    "if not os.path.isfile(file):\n",
    "    try:\n",
    "        os.system(f\"python get_input.py --year 2023 --day {day}\")\n",
    "    except Exception as e:\n",
    "        print(e)\n",
    "\n",
    "with open(file, \"r\", ) as f:\n",
    "    text = f.read().strip().split(\"\\n\")\n",
    "    f.close()\n",
    "\n",
    "lines = text\n",
    "\n",
    "def part1():\n",
    "    total = 0\n",
    "    for line in lines:\n",
    "        x, y = map(str.split, line.split('|'))\n",
    "        matches = set(x) & set(y)\n",
    "        total += 2 ** (len(matches) - 1) if matches else 0\n",
    "    return total\n",
    "\n",
    "def part2():\n",
    "    cards = [1] * len(lines)\n",
    "    for i, line in enumerate(lines):\n",
    "        x, y = map(str.split, line.split('|'))\n",
    "        n = len(set(x) & set(y))\n",
    "        for j in range(i + 1, min(i + 1 + n, len(lines))):\n",
    "            cards[j] += cards[i]\n",
    "    return sum(cards)\n",
    "\n",
    "print(\"First solution:\", part1())\n",
    "print(\"Second solution:\", part2())"
   ]
  }
 ],
 "metadata": {
  "kernelspec": {
   "display_name": "Dataanalysis",
   "language": "python",
   "name": "dataanalysis"
  },
  "language_info": {
   "codemirror_mode": {
    "name": "ipython",
    "version": 3
   },
   "file_extension": ".py",
   "mimetype": "text/x-python",
   "name": "python",
   "nbconvert_exporter": "python",
   "pygments_lexer": "ipython3",
   "version": "3.9.16"
  }
 },
 "nbformat": 4,
 "nbformat_minor": 5
}
