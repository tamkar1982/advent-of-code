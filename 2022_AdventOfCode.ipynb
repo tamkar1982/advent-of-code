{
 "cells": [
  {
   "cell_type": "markdown",
   "id": "9fcf0678-ef95-44dd-a3e9-457c16901840",
   "metadata": {},
   "source": [
    "# Advent of Code 2022"
   ]
  },
  {
   "cell_type": "markdown",
   "id": "1683a7aa-6006-4300-bb5a-423f3f0f2bf2",
   "metadata": {},
   "source": [
    "## Day 1: Calorie Counting\n"
   ]
  },
  {
   "cell_type": "code",
   "execution_count": null,
   "id": "7f8e2f52-fd6b-4015-a4c1-ca4925694b0f",
   "metadata": {},
   "outputs": [],
   "source": [
    "file = r\"C:\\Users\\tkarakay\\Downloads\\input.txt\"\n",
    "\n",
    "with open(file, \"r\") as f:\n",
    "    text = f.read().strip().split(\"\\n\\n\")\n",
    "    f.close()\n",
    "\n",
    "calories = []\n",
    "for idx, val in enumerate(text):\n",
    "    temp = [int(y) for y in [x.split(\"\\n\") for x in text][idx]]\n",
    "    calories.append(sum(temp))\n",
    "    \n",
    "print(\"Most Calories:\", sorted(calories)[-1])\n",
    "print(\"Top three Calories sum:\", sum(sorted(calories)[-3:]))"
   ]
  },
  {
   "cell_type": "markdown",
   "id": "8e0ca71a-31c5-4e1d-a295-ace6ec7be8a4",
   "metadata": {},
   "source": [
    "## Day 2: Rock Paper Scissors\n"
   ]
  },
  {
   "cell_type": "code",
   "execution_count": 1,
   "id": "125c64e4-f8a4-4f67-acd2-67c57de15504",
   "metadata": {},
   "outputs": [
    {
     "name": "stdout",
     "output_type": "stream",
     "text": [
      "2500  ''\n",
      "Total score: 14069\n"
     ]
    }
   ],
   "source": [
    "# First column\n",
    "# A: Rock\n",
    "# B: Paper\n",
    "# C: Scissors\n",
    "\n",
    "# Second column\n",
    "# X: Rock\n",
    "# Y: Paper\n",
    "# Z: Scissors\n",
    "\n",
    "file = r\"C:\\Users\\tkarakay\\Downloads\\day2_input.txt\"\n",
    "\n",
    "with open(file, \"r\") as f:\n",
    "    text = f.read().split(\"\\n\")\n",
    "    f.close()\n",
    "\n",
    "\n",
    "\n",
    "def get_score(text):\n",
    "    dict_ = {'A':'Rock',\n",
    "         'B': 'Paper',\n",
    "         'C': 'Scissors',\n",
    "         'X':'Rock',\n",
    "         'Y': 'Paper',\n",
    "         'Z': 'Scissors',\n",
    "        'Rock': 1,\n",
    "        'Paper': 2,\n",
    "        'Scissors': 3}    \n",
    "    \n",
    "    def win(a, b):\n",
    "        if (a == \"Rock\" and b == \"Paper\") or (a == \"Paper\" and b == \"Scissors\") or  (a == \"Scissors\" and b == \"Rock\"):\n",
    "            return 6\n",
    "        else:\n",
    "            return 0\n",
    "\n",
    "    def draw(a, b):\n",
    "        if (a == b):\n",
    "            return 3\n",
    "        else:\n",
    "            return 0\n",
    "\n",
    "    def lose(a, b):\n",
    "        if (a == \"Rock\" and b == \"Scissors\") or (a == \"Paper\" and b == \"Rock\") or  (a == \"Scissors\" and b == \"Paper\"):\n",
    "            return 0\n",
    "        else:\n",
    "            return 0\n",
    "\n",
    "    \n",
    "    scores = []\n",
    "    for idx, val in enumerate(text):\n",
    "        try:\n",
    "            points=0\n",
    "            temp = val.split(\" \")\n",
    "            oponent_shape = dict_[temp[0]]\n",
    "            my_shape = dict_[temp[1]]\n",
    "\n",
    "            if my_shape == \"Rock\":\n",
    "                points+=dict_[my_shape]\n",
    "                points+=(win(oponent_shape, my_shape) + draw(oponent_shape, my_shape) + lose(oponent_shape, my_shape))\n",
    "\n",
    "            elif my_shape == \"Paper\":\n",
    "                points+=dict_[my_shape]\n",
    "                points+=win(oponent_shape, my_shape) + draw(oponent_shape, my_shape) + lose(oponent_shape, my_shape)\n",
    "\n",
    "            elif my_shape == \"Scissors\":\n",
    "                points+=dict_[my_shape]\n",
    "                points+=win(oponent_shape, my_shape) + draw(oponent_shape, my_shape) + lose(oponent_shape, my_shape)\n",
    "\n",
    "            scores.append(points)\n",
    "        except Exception as e:\n",
    "            print(idx, val, e)\n",
    "    print(\"Total score:\", sum(scores))\n",
    "        \n",
    "\n",
    "\n",
    "get_score(text)"
   ]
  },
  {
   "cell_type": "code",
   "execution_count": null,
   "id": "fc2997c2-2996-4b02-91c4-2c62a973ff0e",
   "metadata": {},
   "outputs": [],
   "source": []
  }
 ],
 "metadata": {
  "kernelspec": {
   "display_name": "Dataanalysis",
   "language": "python",
   "name": "dataanalysis"
  },
  "language_info": {
   "codemirror_mode": {
    "name": "ipython",
    "version": 3
   },
   "file_extension": ".py",
   "mimetype": "text/x-python",
   "name": "python",
   "nbconvert_exporter": "python",
   "pygments_lexer": "ipython3",
   "version": "3.9.16"
  }
 },
 "nbformat": 4,
 "nbformat_minor": 5
}
